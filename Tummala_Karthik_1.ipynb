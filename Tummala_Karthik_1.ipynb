{
  "cells": [
    {
      "cell_type": "markdown",
      "metadata": {
        "id": "view-in-github"
      },
      "source": [
        "<a href=\"https://colab.research.google.com/github/unt-iialab/INFO5731_Spring2020/blob/master/Assignments/INFO5731_Assignment_One.ipynb\" target=\"_parent\"><img src=\"https://colab.research.google.com/assets/colab-badge.svg\" alt=\"Open In Colab\"/></a>"
      ]
    },
    {
      "cell_type": "markdown",
      "metadata": {
        "id": "Ryk8D1Q4Wsrp"
      },
      "source": [
        "# **INFO5731 Assignment - 1**"
      ]
    },
    {
      "cell_type": "markdown",
      "source": [
        "This assignment includes range of programming tasks and data analysis exercises, aiming to enhance your Python skills and proficiency in string manipulation, numerical computations, and data science. Follow the instructions carefully and design well-structured Python programs to address each question.\n",
        "\n",
        "\n",
        "1.  Question 1-5 using AI assistance is strictly prohibted\n",
        "2.  Question 6-7 AI assitance is recommended by following guidelines.\n",
        "\n",
        "Guidelines and expectations file can be found in week 2 module.\n",
        "\n",
        "Late Submission will have a penalty of 10% reduction for each day after the deadline."
      ],
      "metadata": {
        "id": "qcP6re2g5A5r"
      }
    },
    {
      "cell_type": "markdown",
      "metadata": {
        "id": "JkzR8cFAyGik"
      },
      "source": [
        "# Question 1 (10 points).\n",
        "\n",
        "The formula that describes the volume V of a hemisphere with radius r is the following:\n",
        "\n",
        "$ V=\\frac{2}{3}\\ast\\ \\pi\\ast\\ r^3 $\n",
        "\n",
        "Write a program to calculate the value of V when r is in the range of even numbers from 1-20. Output the result in the following format:\n",
        "\n",
        "\tr\tV\n",
        "\t2\t…\n",
        "\t4\t…\n",
        "\t6\t…\n",
        "\t.\n",
        "\t.\n",
        "\t.\n",
        "\t20\t…\n"
      ]
    },
    {
      "cell_type": "code",
      "execution_count": 1,
      "metadata": {
        "id": "jDyTKYs-yGit",
        "colab": {
          "base_uri": "https://localhost:8080/"
        },
        "outputId": "ba7555c9-f769-45a9-ea68-5b3d549463f6"
      },
      "outputs": [
        {
          "output_type": "stream",
          "name": "stdout",
          "text": [
            "r V\n",
            "2 16.76190476190476\n",
            "4 134.09523809523807\n",
            "6 452.5714285714285\n",
            "8 1072.7619047619046\n",
            "10 2095.238095238095\n",
            "12 3620.571428571428\n",
            "14 5749.333333333332\n",
            "16 8582.095238095237\n",
            "18 12219.428571428569\n",
            "20 16761.90476190476\n"
          ]
        }
      ],
      "source": [
        "x = 2/3 #assigned x value as 2/3 according to formulae\n",
        "p = 22/7 #assigned pi value  to y\n",
        "\n",
        "print(\"r\", \"V\")\n",
        "for i in range(1, 21):  #using for loop in range of 1 to 21\n",
        "  if i%2 == 0:          #verfying the integer is even, if even integer goes to next step\n",
        "    r = i**3            #calaculating the cube of radius\n",
        "    V = x*p*r           # multilplying the all values to get Volume\n",
        "    print(i, V)\n"
      ]
    },
    {
      "cell_type": "markdown",
      "metadata": {
        "id": "90_NR8c5XGWc"
      },
      "source": [
        "# Question 2 (10 points)\n",
        "\n",
        "(a) Write a Python program to generate a sequence of 12 random numbers falling within the range of 50 to 150.\n",
        "\n",
        "(b) Arrange the generated numbers in ascending order. Display the sorted list.\n",
        "\n",
        "(c) Extend the program to arrange the numbers in descending order as well. Present the sorted list accordingly.\n",
        "\n",
        "(d) Compute and output the average of the entire group of generated numbers.\n",
        "\n",
        "(e) Enhance the program to calculate and display the average of the first 6 numbers from both the ascending and descending sorted lists."
      ]
    },
    {
      "cell_type": "code",
      "execution_count": 2,
      "metadata": {
        "id": "5QX6bJjGWXY9",
        "colab": {
          "base_uri": "https://localhost:8080/"
        },
        "outputId": "1da465a3-c0f0-4cf6-89d3-201c7917f155"
      },
      "outputs": [
        {
          "output_type": "stream",
          "name": "stdout",
          "text": [
            "Sequence random numbers: [106 117 119 117 127  88  73 143  58  78  66 101]\n",
            "Ascending Order: [ 58  66  73  78  88 101 106 117 117 119 127 143]\n",
            "Descending Order: [143 127 119 117 117 106 101  88  78  73  66  58]\n",
            "Avergae of entier list is : 99.41666666666667\n",
            "Average of Fisrt 6 ascending numbers: 121.5\n",
            "Average of Fisrt 6 descending numbers: 77.33333333333333\n"
          ]
        }
      ],
      "source": [
        "# Write code for each of the sub parts with proper comments.\n",
        "import numpy as np                                              #imported numpy library to generate random numbers\n",
        "\n",
        "x = np.random.randint(50, 151, size=12)                        #By using random in range of 50 to 151 with size of 12 generated 12 random numbers\n",
        "print(\"Sequence random numbers:\",x)\n",
        "\n",
        "x.sort()                                                       #By using sort() function sorted the random numbers in permanently in ascending order\n",
        "print(\"Ascending Order:\",x)\n",
        "\n",
        "y = x[::-1]                                                    #By slicing list from last to first with negative index to get descending order\n",
        "print(\"Descending Order:\",y)\n",
        "\n",
        "av = sum(x)/12\n",
        "print(\"Avergae of entier list is :\", av)                        #calculated the average of list by sum function and total size of list\n",
        "\n",
        "fisrt6_asc_avg = sum(x[6:])/6                                   #calculated the average of first 6 numbers of ascending list by slicing the list in sum function\n",
        "print(\"Average of Fisrt 6 ascending numbers:\",fisrt6_asc_avg)\n",
        "\n",
        "first6_dsc_avg = sum(y[6:])/6                                   #calculated the average of first 6 numbers of descending list by slicing the list in sum function\n",
        "print(\"Average of Fisrt 6 descending numbers:\",first6_dsc_avg)"
      ]
    },
    {
      "cell_type": "markdown",
      "metadata": {
        "id": "1F_PZdH9Sh49"
      },
      "source": [
        "# Question 3 (10 points).\n",
        "\n",
        "Create a Python program that encompasses various string manipulation task:\n",
        "\n",
        "(a) Prompt the user to input two sentences.\n",
        "\n",
        "(b) Transform each sentence into a list, where each element corresponds to a word in the sentence. For example, if the sentences are \"Hello, how are you doing today?\" and \"This is an example sentence for the program!\"\n",
        "\n",
        "The program should output:\n",
        "['Hello', ',', 'how', 'are', 'you', 'doing', 'today', '?', 'This', 'is', 'an', 'example', 'sentence', 'for', 'the', 'program', '!']\n",
        "\n",
        "(c) Compare the two sentences. Print out a list of words that occur in both sentences.\n",
        "\n",
        "(d) Remove any punctuation from the sentence and print the sanitized sentences. It should remove at least the following characters, but it can remove more: period(“.”), comma (“,”), semicolon (“;”), and colon (“:”).\n",
        "\n",
        "(e) Count the number of vowels in each of the sentences. Print out each vowel and the occurrences  in the each of the two sentences separately, such as:\n",
        "\n",
        "Sentence1: a:2, e:2, i:0, etc.\n",
        "Sentence2: a:1, e:2, i:2, etc.\n",
        "\n",
        "Design a well-structured Python program to execute these tasks efficiently."
      ]
    },
    {
      "cell_type": "code",
      "source": [
        "import string\n",
        "\n",
        "\n",
        "#Part-A\n",
        "input1 = input(\"Enter the sentence1: \")  #inputing the 1st sentence\n",
        "input2 = input(\"Enter the sentence2: \")  #inputing the 2nd sentence\n",
        "\n",
        "#Part-B removing punctuation\n",
        "\n",
        "a = input1.split()  # spilting the each word of input 1\n",
        "b = input2.split()  # spilting the each word in input2 sentence\n",
        "\n",
        "sentence1 = [] # intiating the empty sentence lists two add each word of sentence\n",
        "sentence2 = []\n",
        "pun = string.punctuation   # intaiting the pun to all puncations stoer in string.puncations method\n",
        "\n",
        "for i in a:   #using for loop\n",
        "\n",
        "    if i[-1] in pun:   # verfying the each word in puncations in neagtive index\n",
        "      sentence1.append(i[:-1])  # stroing the puncations in sentence1 list\n",
        "      sentence1.append(i[-1])\n",
        "    else:\n",
        "      sentence1.append(i) # if word doesnt have the puncation directly it will append to sentence 1 list\n",
        "\n",
        "for i in b:     # same as above loop\n",
        "\n",
        "    if i[-1] in pun:\n",
        "      sentence2.append(i[:-1])\n",
        "      sentence2.append(i[-1])\n",
        "    else:\n",
        "      sentence2.append(i)\n",
        "print(\"Sanitize Sentences: \")\n",
        "print(sentence1) # print the result\n",
        "print(sentence2)\n",
        "\n",
        "#Part-C Compare the simsilar words in sentences\n",
        "\n",
        "compare_list = []  # intating the empty list\n",
        "\n",
        "for i in sentence1:   # in this loop coparing the each word in sentence,  right now taking the 1st word in sentence1[0] list\n",
        "  for j in sentence2: # in this innner loop taking the 1st word in sentece2[0] loop,  after completing the sentece2[0] it will the verfy upto sentence2[n](last index word in sentence2) after completing the comlete len of sentnece 2 it verfys the sentence[1]\n",
        "    if i == j:   # comparing the sentence1[0] and senrecne[0] words\n",
        "      compare_list.append(i) # if it finds similar  append to compare list\n",
        "\n",
        "print(\"Similar Words: \",compare_list)\n",
        "\n",
        "\n",
        "#Part-D Remove ,:;.\n",
        "\n",
        "santized_sentence1 = ''  # intaiting the new sentence1 string\n",
        "santized_sentence2 = ''  # intaiting the new sentence2 string\n",
        "\n",
        "for i in input1:  # using for loop, taking the input1 first character\n",
        "  if i != '.' and i != ',' and i != ';' and i != ':':   # verfying  char is not falls in conditions\n",
        "    santized_sentence1 += i   # if char not falls in condition it  update into santized_sentence1 string\n",
        "\n",
        "for i in input2:\n",
        "  if i != '.' and i != ',' and i != ';' and i != ':':\n",
        "    santized_sentence2 += i\n",
        "\n",
        "\n",
        "print(santized_sentence1)\n",
        "print(santized_sentence2)\n",
        "\n",
        "\n",
        "#Part-E couunt the vowles\n",
        "input1 = input1.lower()  #converting the input1 sentence into lower case for dictionary to count the vowels\n",
        "input2 = input2.lower()  #converting the input2 sentence into lower case for dictionary to count the vowels\n",
        "\n",
        "vowels = 'aeiou' # intiating vowels to vowels\n",
        "\n",
        "dict1 = {'a': 0, 'e': 0, 'i': 0, 'o': 0, 'u': 0} # intiaiting the dictonary(dict1) with null count of each vowel\n",
        "dict2 = {'a': 0, 'e': 0, 'i': 0, 'o': 0, 'u': 0} # intiaiting the dictonary(dict2) with null count of each vowel\n",
        "\n",
        "for i in input1:  # using for loop, to count vowels veryfing the each char input1(0)....input(n)\n",
        "  if i in vowels:  # verfying the 1st char of falls in vowles\n",
        "    dict1[i] += 1  # if char in vowles it will upadte the count into dict1\n",
        "\n",
        "for i in input2:\n",
        "  if i in vowels:\n",
        "    dict2[i] += 1\n",
        "\n",
        "print(\"Sentenc1: \")\n",
        "for i , j in dict1.items():   #using the for loop, pirnting the each item in dict as i and j\n",
        "  if j > 0: # if any count more than zero results are printing\n",
        "    print(i, \":\", j)\n",
        "\n",
        "print(\"Sentenc2: \")\n",
        "for i , j in dict2.items():\n",
        "  if j > 0:\n",
        "    print(i, \":\", j)\n",
        "\n",
        "#Hello, how are you doing today?\n",
        "#This is an example sentence for the program!"
      ],
      "metadata": {
        "colab": {
          "base_uri": "https://localhost:8080/"
        },
        "id": "rKh2tAxl8JOq",
        "outputId": "c28ca273-6744-4f74-dff9-37b8af9e6712"
      },
      "execution_count": 21,
      "outputs": [
        {
          "output_type": "stream",
          "name": "stdout",
          "text": [
            "Enter the sentence1: Hello, how are you doing today?\n",
            "Enter the sentence2: This is an example sentence for the program!\n",
            "['Hello', ',', 'how', 'are', 'you', 'doing', 'today', '?']\n",
            "['This', 'is', 'an', 'example', 'sentence', 'for', 'the', 'program', '!']\n",
            "Similar Words:  []\n",
            "Hello how are you doing today?\n",
            "This is an example sentence for the program!\n",
            "Sentenc1: \n",
            "a : 2\n",
            "e : 2\n",
            "i : 1\n",
            "o : 5\n",
            "u : 1\n",
            "Sentenc2: \n",
            "a : 3\n",
            "e : 6\n",
            "i : 2\n",
            "o : 2\n"
          ]
        }
      ]
    },
    {
      "cell_type": "markdown",
      "source": [
        "# Question 4 (10 Points)"
      ],
      "metadata": {
        "id": "OP4-5qxAtInv"
      }
    },
    {
      "cell_type": "markdown",
      "source": [
        "Design and implement a simple command-line calculator program. The program should handle both integers and floating-point numbers.\n",
        "\n",
        "(a) Write program that takes a mathematical expression as input and evaluates it. The program should support addition, subtraction, multiplication, and division.\n",
        "\n",
        "(b) Extend the calculator to handle parentheses in mathematical expressions. Implement the necessary logic to evaluate expressions with nested parentheses.\n",
        "\n",
        "(c) Enhance your calculator to include additional mathematical operations such as exponentiation, square root, and modulus.\n",
        "\n",
        "(d) Implement error handling in the calculator program. Handle cases such as division by zero and invalid input expressions. Provide meaningful error messages.\n",
        "\n",
        "(e) Implement a command to exit the calculator."
      ],
      "metadata": {
        "id": "uzN4_hDptK9U"
      }
    },
    {
      "cell_type": "code",
      "source": [
        "import math\n",
        "import re\n",
        "\n",
        "def calculator(E): # calculator Function is used to take math expresion and evaluates it and returns the value\n",
        "    try:\n",
        "        E = E.replace('^', '**')\n",
        "\n",
        "\n",
        "        # Function to evaluate expressions with parentheses\n",
        "        def evaluate(tokens):\n",
        "            def apply_operator(operators, values):\n",
        "                right = values.pop()\n",
        "                left = values.pop() if values else 0  # Handle unary operations\n",
        "                op = operators.pop()\n",
        "                if op == '+':\n",
        "                    values.append(left + right)\n",
        "                elif op == '-':\n",
        "                    values.append(left - right)\n",
        "                elif op == '*':\n",
        "                    values.append(left * right)\n",
        "                elif op == '/':\n",
        "                    if right == 0:\n",
        "                        raise ZeroDivisionError(\"Division by zero is not allowed.\")\n",
        "                    values.append(left // right)  # Integer division\n",
        "                elif op == '**':\n",
        "                    values.append(left ** right)\n",
        "                elif op == '%':\n",
        "                    values.append(left % right)\n",
        "\n",
        "            # Define operator precedence\n",
        "            precedence = {'+': 1, '-': 1, '': 2, '/': 2, '*': 3, '%': 2}\n",
        "            values = [] # Stack for numbers\n",
        "            operators = [] # Stack for operator\n",
        "            i = 0 # Token index\n",
        "\n",
        "            while i < len(tokens):\n",
        "                token = tokens[i]\n",
        "                # Handle numbers\n",
        "                if isinstance(token, str) and token.isdigit():\n",
        "                    values.append(int(token))\n",
        "                elif token == 'sqrt': # Handle square root function\n",
        "                    if i + 1 < len(tokens) and tokens[i + 1] == '(':\n",
        "                        operators.append(token)\n",
        "                    else:\n",
        "                        return \"Error: sqrt function requires parentheses.\"\n",
        "                elif token in precedence: # Handle arithmetic operators\n",
        "                    while (operators and operators[-1] in precedence and\n",
        "                           precedence[operators[-1]] >= precedence[token]):\n",
        "                        apply_operator(operators, values)\n",
        "                    operators.append(token)\n",
        "                elif token == '(':\n",
        "                    operators.append(token)\n",
        "                elif token == ')':\n",
        "                    while operators and operators[-1] != '(':\n",
        "                        apply_operator(operators, values)\n",
        "                    operators.pop()  # Remove '('\n",
        "                    if operators and operators[-1] == 'sqrt':\n",
        "                        operators.pop()\n",
        "                        values.append(int(math.sqrt(values.pop())))\n",
        "                i += 1\n",
        "\n",
        "            while operators:\n",
        "                apply_operator(operators, values)\n",
        "\n",
        "            return values[0] if values else \"Error: Invalid expression.\"\n",
        "\n",
        "        tokens = re.findall(r'sqrt|\\d+|[()+\\-*/%^]', E) # Tokenize the input expression\n",
        "        return evaluate(tokens)\n",
        "    except ZeroDivisionError:\n",
        "        return \"Error: Dividing by Zero is not possible. Try again\"\n",
        "    except (SyntaxError, NameError, TypeError):\n",
        "        return \"Error: Thats not a valid input. Please enter a valid mathematical expression.\"\n",
        "\n",
        "def main():\n",
        "    print(\"Hello!! Welcome to karthik's Command line Calculator!\")\n",
        "    print(\"Valid Operations: +, -, *, /, ^, %, sqrt()\")\n",
        "    print(\"type 'exit' to quit the calculator.\")\n",
        "\n",
        "    while True: # looping for user input\n",
        "        userInput = input(\"Enter a math expression:\")\n",
        "        if userInput.lower() == 'exit':\n",
        "            print(\"Thank you for using my calculator :)\")\n",
        "            break\n",
        "        output = calculator(userInput)\n",
        "        print(\"Result:\", output)\n",
        "\n",
        "\n",
        "if __name__ == \"__main__\":\n",
        "    main()\n"
      ],
      "metadata": {
        "id": "8nQnVxjJuYtu",
        "colab": {
          "base_uri": "https://localhost:8080/"
        },
        "outputId": "4c4b9354-d7d3-4271-dd00-ece7f4d51da5"
      },
      "execution_count": 102,
      "outputs": [
        {
          "output_type": "stream",
          "name": "stdout",
          "text": [
            "Hello!! Welcome to karthik's Command line Calculator!\n",
            "Valid Operations: +, -, *, /, ^, %, sqrt()\n",
            "type 'exit' to quit the calculator.\n",
            "Enter a math expression:exit\n",
            "Thank you for using my calculator :)\n"
          ]
        }
      ]
    },
    {
      "cell_type": "markdown",
      "metadata": {
        "id": "z3tBE7E-Xn5X"
      },
      "source": [
        "# Question 5 (20 points).\n",
        "\n",
        "In the field of Data Science, data is often formatted as a comma-delimited (CSV) file, where each line in a file corresponds to a field's value. Refer to Chapter 9 (p. 106) for more information on comma-delimited files.\n",
        "\n",
        "To answer this question, you will need to download the file [Assignment1_denton_housing.csv](https://raw.githubusercontent.com/unt-iialab/info5731-spring2022/main/assignments/Assignment1_denton_housing.csv) included with this assignment. The file contains statistics about housing in the city of Denton from 2008 to 2014. Write a program to implement the following questions.\n",
        "\n",
        "(a) (5 pts) Calculate the difference in the number of Occupied Housing Units from year to year and print it. The difference must be calculated for the consecutive years such as 2008-2009, 2009-2010 etc. Finally, print the values in the ascending order.\n",
        "\n",
        "(b) (5 pts) For all the years, calculate the percentage of housing units which are vacant an occupied. Print the results in the following format:\n",
        "\n",
        "Year Vacant Housing Units Occupied Housing Units\n",
        "\n",
        "    2008  30%   70%                          \n",
        "\t2009 ----- -----\n",
        "\t2010 ----- -----\n",
        "    2011 ----- -----\n",
        "\t2012 ----- -----\n",
        "    2013 ----- -----\n",
        "\t2014 ----- -----\n",
        "  \n",
        "  \n",
        "\n",
        "(c) (5 pts) Calculate and print the valued and years in which the highest number of housing units were vacant and occupied. Print the results in the following format:  \n",
        "\n",
        "                              Year\tValue\n",
        "\tVacant Housing Units\t  -----   -----\n",
        "\tOccupied Housing Units\t-----   -----\n",
        "\n",
        "(d) (5 pts) Calculate the harmonic mean of the total housing units and print it out. You can find the information about harmonic mean here: https://ncalculators.com/statistics/harmonic-mean-calculator.htm"
      ]
    },
    {
      "cell_type": "code",
      "source": [],
      "metadata": {
        "id": "26BM4iPJofey"
      },
      "execution_count": null,
      "outputs": []
    },
    {
      "cell_type": "code",
      "source": [
        "import numpy as np\n",
        "import pandas as pd\n",
        "\n",
        "df = pd.read_csv(\"https://raw.githubusercontent.com/unt-iialab/info5731-spring2022/main/assignments/Assignment1_denton_housing.csv\")\n",
        "\n",
        "print(df)"
      ],
      "metadata": {
        "colab": {
          "base_uri": "https://localhost:8080/"
        },
        "id": "pnbRbjWkgFHV",
        "outputId": "3f1dd143-5b89-483c-8aad-50f489216dd1"
      },
      "execution_count": 27,
      "outputs": [
        {
          "output_type": "stream",
          "name": "stdout",
          "text": [
            "    year             title_field  value\n",
            "0   2014     Total Housing Units  49109\n",
            "1   2014    Vacant Housing Units   2814\n",
            "2   2014  Occupied Housing Units  46295\n",
            "3   2013     Total Housing Units  47888\n",
            "4   2013    Vacant Housing Units   4215\n",
            "5   2013  Occupied Housing Units  43673\n",
            "6   2012     Total Housing Units  45121\n",
            "7   2012    Vacant Housing Units   3013\n",
            "8   2012  Occupied Housing Units  42108\n",
            "9   2011     Total Housing Units  44917\n",
            "10  2011    Vacant Housing Units   4213\n",
            "11  2011  Occupied Housing Units  40704\n",
            "12  2010     Total Housing Units  44642\n",
            "13  2010    Vacant Housing Units   3635\n",
            "14  2010  Occupied Housing Units  41007\n",
            "15  2009     Total Housing Units  39499\n",
            "16  2009    Vacant Housing Units   3583\n",
            "17  2009  Occupied Housing Units  35916\n",
            "18  2008     Total Housing Units  41194\n",
            "19  2008    Vacant Housing Units   4483\n",
            "20  2008  Occupied Housing Units  36711\n",
            "21  2014          Owner Occupied  21427\n",
            "22  2014         Renter Occupied  24868\n",
            "23  2013          Owner Occupied  20845\n",
            "24  2013         Renter Occupied  22828\n",
            "25  2012          Owner Occupied  20068\n",
            "26  2012         Renter Occupied  22040\n",
            "27  2011          Owner Occupied  18478\n",
            "28  2011         Renter Occupied  22226\n",
            "29  2010          Owner Occupied  18867\n",
            "30  2010         Renter Occupied  22140\n",
            "31  2009          Owner Occupied  18057\n",
            "32  2009         Renter Occupied  17859\n",
            "33  2008          Owner Occupied  17340\n",
            "34  2008         Renter Occupied  19371\n",
            "35  2014       Median Gross Rent    905\n",
            "36  2013       Median Gross Rent    887\n",
            "37  2012       Median Gross Rent    842\n",
            "38  2011       Median Gross Rent    821\n",
            "39  2010       Median Gross Rent    780\n",
            "40  2009       Median Gross Rent    769\n",
            "41  2008       Median Gross Rent    768\n"
          ]
        }
      ]
    },
    {
      "cell_type": "code",
      "source": [
        "# Your code here\n",
        "a = df[df['title_field'] == 'Occupied Housing Units'] # filtered out the only Occupied Housing Units data\n",
        "a = a.sort_values(by='year') # sorted by year the data\n",
        "a['difference'] = a['value'].diff()  # calculating the consecytive difference\n",
        "a = a.dropna(subset=['difference']) # droping the null values in data\n",
        "\n",
        "list = [] # intiatiezed the empty new list\n",
        "\n",
        "\n",
        "for i in range(len(a) - 1):  # using for loop, from a data of a[0](year1, year2, diiference value) appending to new list\n",
        "    y1 = a.iloc[i]['year']\n",
        "    y2 = a.iloc[i + 1]['year']\n",
        "    res = a.iloc[i + 1]['difference']\n",
        "    list.append((y1, y2, res))\n",
        "\n",
        "\n",
        "x = sorted(list, key=lambda x: x[2]) # sorting the new list in ascending order by difference values in X\n",
        "\n",
        "for y1, y2, diff in x: # printing the result in given formart as 2009-2010 and difference\n",
        "    print(f\"{y1} - {y2}: {diff}\")\n"
      ],
      "metadata": {
        "colab": {
          "base_uri": "https://localhost:8080/"
        },
        "id": "l_pV6NkTrC6J",
        "outputId": "cee3377a-156c-4e80-b5e0-bfb0ec184735"
      },
      "execution_count": 60,
      "outputs": [
        {
          "output_type": "stream",
          "name": "stdout",
          "text": [
            "2010 - 2011: -303.0\n",
            "2011 - 2012: 1404.0\n",
            "2012 - 2013: 1565.0\n",
            "2013 - 2014: 2622.0\n",
            "2009 - 2010: 5091.0\n"
          ]
        }
      ]
    },
    {
      "cell_type": "code",
      "source": [
        "a = df[df['title_field'] == 'Vacant Housing Units'] # storing only the Vacant Housing Units data in a\n",
        "b = df[df['title_field'] == 'Occupied Housing Units']  # storing only the Occupied Housing Units data in b\n",
        "c = df[df['title_field'] == 'Total Housing Units']  # storing only the Occupied Housing Units data in c\n",
        "\n",
        "\n",
        "res_df = a[['year', 'value']].merge(b[['year', 'value']], on='year', suffixes=('_vacant', '_occupied')) # mergeing the a nd b of Vacant Housing Units and Occupied Housing Units data\n",
        "res_df = res_df.merge(c[['year', 'value']], on='year', suffixes=('', '_total'))  # merging the above merged data and Occupied Housing Units data\n",
        "\n",
        "res_df['percentage_vacant'] = (res_df['value_vacant'] / res_df['value']) * 100. #calaculating the percentgae of Vacant Housing Units and total housing\n",
        "res_df['percentage_occupied'] = (res_df['value_occupied'] / res_df['value']) * 100. #calaculating the percentgae of ccupied Housing Units and total housing\n",
        "\n",
        "\n",
        "for _, row in res_df.iterrows():   #printing the output in given format\n",
        "    print(f\"{row['year']}  {row['percentage_vacant']:.2f}  {row['percentage_occupied']:.2f}\")\n"
      ],
      "metadata": {
        "colab": {
          "base_uri": "https://localhost:8080/"
        },
        "id": "Ar4xl03hxbOQ",
        "outputId": "ce8ecd19-77dc-4aab-df16-bef43e2a5bd8"
      },
      "execution_count": 70,
      "outputs": [
        {
          "output_type": "stream",
          "name": "stdout",
          "text": [
            "2014.0  5.73  94.27\n",
            "2013.0  8.80  91.20\n",
            "2012.0  6.68  93.32\n",
            "2011.0  9.38  90.62\n",
            "2010.0  8.14  91.86\n",
            "2009.0  9.07  90.93\n",
            "2008.0  10.88  89.12\n"
          ]
        }
      ]
    },
    {
      "cell_type": "code",
      "source": [
        "a = df[df['title_field'] == 'Vacant Housing Units'] # storing only the Vacant Housing Units data in a\n",
        "b = df[df['title_field'] == 'Occupied Housing Units']  # storing only the Occupied Housing Units data in b\n",
        "\n",
        "a = a.loc[a['value'].idxmax()] # using idmax method to get the maximum value of Vacant Housing Units\n",
        "b = b.loc[b['value'].idxmax()] # using idmax methos to get the maximum values of Occupied Housing Units\n",
        "\n",
        "# Print the results in the desired format\n",
        "print(f\"                       Year Value \")\n",
        "print(f\"Vacant Housing Units   {a['year']} {a['value']} \")\n",
        "print(f\"Occupied Housing Units {b['year']} {b['value']} \")"
      ],
      "metadata": {
        "colab": {
          "base_uri": "https://localhost:8080/"
        },
        "id": "UPGsAeT_3rd3",
        "outputId": "d76a3988-22f3-4a63-df6f-c2047ba0a298"
      },
      "execution_count": 91,
      "outputs": [
        {
          "output_type": "stream",
          "name": "stdout",
          "text": [
            "                       Year Value \n",
            "Vacant Housing Units   2008 4483 \n",
            "Occupied Housing Units 2014 46295 \n"
          ]
        }
      ]
    },
    {
      "cell_type": "code",
      "source": [
        "c = df[df['title_field'] == 'Total Housing Units']  # storing only the Occupied Housing Units data in c\n",
        "values = c['value'] # storing the only totoal housing units of values into values\n",
        "i = len(values) #calculating the len of values\n",
        "hm = i / (1 / values).sum() # harmonic formaulae len(values)/(1/ sum of values)\n",
        "print('Harmonic Mean of Total Housing Units: ',hm)\n"
      ],
      "metadata": {
        "colab": {
          "base_uri": "https://localhost:8080/"
        },
        "id": "If9sQcIe58dw",
        "outputId": "46baf536-05e8-4762-95f8-36908a54093e"
      },
      "execution_count": 94,
      "outputs": [
        {
          "output_type": "stream",
          "name": "stdout",
          "text": [
            "Harmonic Mean of Total Housing Units:  44398.28543969185\n"
          ]
        }
      ]
    },
    {
      "cell_type": "markdown",
      "source": [
        "# **For question 6 and 7 you can take AI assitance to solve.**\n",
        "\n",
        "Make sure you follow the instructions given in class to answer these questions.\n",
        "\n",
        "\n",
        "**Important points:**\n",
        "\n",
        "1.   You must come up with at least 10 edge cases.\n",
        "2.   You should provide prompts and revised prompts given to ChatGPT.\n",
        "2.   Debug your code and write comments for each block of code\n",
        "3.   Analyzing error will not consider as edge case.\n",
        "\n",
        "Edge cases are like real life scienarios which are realated to the given question."
      ],
      "metadata": {
        "id": "DB9XtkavJmsO"
      }
    },
    {
      "cell_type": "markdown",
      "source": [
        "# Question 6 (20 points).\n",
        "Develop a advance Python program to manage inventory records for a prodcut managing company. The system needs functions for adding, deleting and changing products and basic search options. Your system should use CSV files to automate restocking and produce reports that show item values alongside category breakdowns. Manage edge cases and corrupted CSV files. Finally maintaine 50 products of different categories in inventory."
      ],
      "metadata": {
        "id": "BAfp-70D2Cay"
      }
    },
    {
      "cell_type": "code",
      "source": [],
      "metadata": {
        "id": "02IGxQQxJ2wW"
      },
      "execution_count": null,
      "outputs": []
    },
    {
      "cell_type": "markdown",
      "source": [
        "# Question 7 (20 points)\n",
        "\n",
        "Create a well desined Python program for a flight booking system. Offer core functions for adding new flights, finding trips, reserving and releasing seating space and creating performance reports. Ensure the system manages edge cases like invalid input, overbooking, and cancellations. Finally, extend the booking system by including advanced features and maintain about 50 flight in the system."
      ],
      "metadata": {
        "id": "290UJiNg2xES"
      }
    },
    {
      "cell_type": "code",
      "source": [
        "# Your code here\n"
      ],
      "metadata": {
        "id": "dME5iWD53ADa"
      },
      "execution_count": null,
      "outputs": []
    },
    {
      "cell_type": "markdown",
      "source": [
        "# Mandatory Question\n",
        "\n",
        "Provide your thoughts on the assignment. What did you find challenging, and what aspects did you enjoy? Your opinion on the provided time to complete the assignment. Share any suggestions for improvement. Your feedback will be valuable for enhancing the learning experience."
      ],
      "metadata": {
        "id": "q8BFCvWp32cf"
      }
    },
    {
      "cell_type": "code",
      "source": [
        "# Write your response below"
      ],
      "metadata": {
        "id": "_e557s2w4BpK"
      },
      "execution_count": null,
      "outputs": []
    }
  ],
  "metadata": {
    "colab": {
      "provenance": []
    },
    "kernelspec": {
      "display_name": "Python 3 (ipykernel)",
      "language": "python",
      "name": "python3"
    },
    "language_info": {
      "codemirror_mode": {
        "name": "ipython",
        "version": 3
      },
      "file_extension": ".py",
      "mimetype": "text/x-python",
      "name": "python",
      "nbconvert_exporter": "python",
      "pygments_lexer": "ipython3",
      "version": "3.9.12"
    }
  },
  "nbformat": 4,
  "nbformat_minor": 0
}